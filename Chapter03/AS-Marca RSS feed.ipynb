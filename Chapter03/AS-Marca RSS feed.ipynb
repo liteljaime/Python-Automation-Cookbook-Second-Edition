{
 "cells": [
  {
   "cell_type": "code",
   "execution_count": 12,
   "id": "desperate-palmer",
   "metadata": {},
   "outputs": [],
   "source": [
    "import feedparser\n",
    "import datetime\n",
    "import delorean\n",
    "import requests"
   ]
  },
  {
   "cell_type": "code",
   "execution_count": 13,
   "id": "ready-validation",
   "metadata": {},
   "outputs": [],
   "source": [
    "rss_marca = feedparser.parse('https://e00-marca.uecdn.es/rss/portada.xml')\n",
    "rss_as = feedparser.parse('https://as.com/rss/tags/ultimas_noticias.xml')\n",
    "rss = [rss_marca, rss_as]\n",
    "entries = []"
   ]
  },
  {
   "cell_type": "code",
   "execution_count": 14,
   "id": "local-landing",
   "metadata": {},
   "outputs": [],
   "source": [
    "for feed in rss:\n",
    "    time_limit = delorean.parse(feed.channel.updated) - datetime.timedelta(hours=6)\n",
    "    entries += [entry for entry in feed.entries if delorean.parse(entry.published) > time_limit]"
   ]
  },
  {
   "cell_type": "code",
   "execution_count": 15,
   "id": "beneficial-reporter",
   "metadata": {},
   "outputs": [],
   "source": [
    "rss = sorted(entries, key=lambda item: item['published_parsed'])"
   ]
  },
  {
   "cell_type": "code",
   "execution_count": 17,
   "id": "dynamic-generic",
   "metadata": {},
   "outputs": [
    {
     "data": {
      "text/plain": [
       "dict_keys(['title', 'title_detail', 'links', 'link', 'id', 'guidislink', 'authors', 'author', 'author_detail', 'summary', 'summary_detail', 'published', 'published_parsed', 'tags', 'content', 'comments'])"
      ]
     },
     "execution_count": 17,
     "metadata": {},
     "output_type": "execute_result"
    }
   ],
   "source": [
    "entries[50].keys()"
   ]
  },
  {
   "cell_type": "code",
   "execution_count": 10,
   "id": "australian-treaty",
   "metadata": {},
   "outputs": [
    {
     "data": {
      "text/plain": [
       "feedparser.FeedParserDict"
      ]
     },
     "execution_count": 10,
     "metadata": {},
     "output_type": "execute_result"
    }
   ],
   "source": [
    "type(entries[0])"
   ]
  },
  {
   "cell_type": "code",
   "execution_count": 18,
   "id": "rural-imperial",
   "metadata": {
    "scrolled": false
   },
   "outputs": [
    {
     "name": "stdout",
     "output_type": "stream",
     "text": [
      "Messi y De Jong están jugando con fuego\n",
      "https://www.marca.com/futbol/barcelona/2021/03/20/6054d95bca4741e7288b466a.html\n",
      "Mayweather y su obsesión por el dinero: \"No podemos alimentar a la familia sólo diciendo te quiero\"\n",
      "https://www.marca.com/boxeo/2021/03/20/6054f79f268e3eb85a8b4655.html\n",
      "Primera prueba del Porsche Taycan Cross Turismo: ¡lánzate al barro!\n",
      "https://www.marca.com/coches-y-motos/coches/porsche/2021/03/20/604cafc1e2704ecf4d8b45bb.html\n",
      "Un año sin Lorenzo Sanz: \"Ni presumía, ni se creía superior\"\n",
      "https://www.marca.com/futbol/real-madrid/2021/03/20/60550daae2704ee8048b45f6.html\n",
      "Aspas contra el reto del pleno al 11\n",
      "https://www.marca.com/futbol/primera-division/2021/03/20/605503cb268e3e727d8b4579.html\n",
      "Susanna Griso responde a las polémicas palabras de Tamara Falcó sobre Pablo Iglesias\n",
      "https://www.marca.com/tiramillas/television/2021/03/20/6055a3adca4741f7628b466c.html\n",
      "Risto Mejide y Laura Escanes responden al vacile de 'La Resistencia' por el Día del Padre\n",
      "https://www.marca.com/tiramillas/television/2021/03/20/6055a79bca47413d0a8b45e5.html\n",
      "Una chaqueta Adidas, el Satisfyer al 50% y otros chollos de Amazon\n",
      "https://www.marca.com/regalos-promociones/2021/03/20/605364e122601d584f8b45b6.html\n",
      "Kiko Rivera revela el dineral que le debe Isabel Pantoja: \"Estaría mejor en la cárcel\"\n",
      "https://www.marca.com/tiramillas/television/2021/03/20/6055acc6ca4741d1218b45b7.html\n",
      "El día que Bottas se vio obligador a dejar ganar a Hamilton: \"Si estuviera en tu pellejo...\"\n",
      "https://www.marca.com/motor/formula1/2021/03/20/6055afa5268e3e63198b45fa.html\n",
      "Las calculardoras de la Euroliga echan humo: ¿Habrá pleno español?\n",
      "https://www.marca.com/baloncesto/euroliga/2021/03/20/60555698ca474195348b45c8.html\n",
      "La asistencia de la que habla toda la NBA: la inexplicable brujería ciega de Luka Doncic\n",
      "https://videos.marca.com/v/0_8owpfp2p-la-inexplicable-brujeria-ciega-de-doncic-como-ve-a-sus-companeros?uetv_pl=ultimos-videos&count=0\n",
      "Ricky Rubio se reencuentra: \"Yo sé quién soy y cómo soy y aún tengo más baloncesto\"\n",
      "https://www.marca.com/baloncesto/nba/2021/03/20/60558ca8ca4741320f8b4625.html\n",
      "Antetokounmpo, Doncic, Jokic... ¿podría Europa vencer al Dream Team?\n",
      "https://www.marca.com/baloncesto/nba/2021/03/20/6055a0eeca47414f3e8b45ca.html\n",
      "Orlando Ortega: \"Me siento con más ganas que en Río y eso es lo más importante\"\n",
      "https://www.marca.com/atletismo/2021/03/20/6054cff3e2704e818f8b4614.html\n",
      "Así fue la tensa bronca de Carlos con Diego que Mediaset retiró tras su detención por abuso sexual\n",
      "https://www.marca.com/tiramillas/television/2021/03/20/6055b55222601df4068b4624.html\n",
      "Ricky Rubio sublima el arte del engaño: ¿por dónde pasa el balón?\n",
      "https://videos.marca.com/v/0_nzfn2jia-ricky-rubio-sublima-el-arte-del-engano-por-donde-pasa-el-balon?uetv_pl=ultimos-videos&count=0\n",
      "La asistencia de Doncic que se hizo TT al instante: \"La segunda toma es una maravilla...\"\n",
      "https://as.com/baloncesto/2021/03/20/videos/1616230716_353949.html#?ref=rss&format=simple&link=link\n",
      "La exhibición de Campazzo ante Hornets con récord personal incluido\n",
      "https://as.com/baloncesto/2021/03/18/videos/1616062740_537660.html#?ref=rss&format=simple&link=link\n",
      "Sara Sorribes pasa a semifinales de Monterrey y aspira a un récord de Serna en 2003\n",
      "https://www.marca.com/tenis/2021/03/20/6055ba09e2704e29a28b4658.html\n",
      "Formación estelar de Ineos para la Volta: Carapaz, Thomas, Porte...\n",
      "https://as.com/ciclismo/2021/03/19/mas_ciclismo/1616178052_774811.html#?ref=rss&format=simple&link=link\n",
      "Edge será árbitro en Fastlane y Reigns le avisa del peligro\n",
      "https://as.com/masdeporte/2021/03/20/polideportivo/1616231427_167466.html#?ref=rss&format=simple&link=link\n",
      "El nuevo baile de Muguruza que vuelve a fascinar a Alejandro Sanz\n",
      "https://videos.marca.com/v/0_2j00r0hv-el-nuevo-baile-de-muguruza-que-vuelve-a-fascinar-a-alejandro-sanz?uetv_pl=otros-deportes&count=0\n",
      "La cláusula secreta que el Liverpool puso al Barça en el fichaje de Coutinho\n",
      "https://www.marca.com/futbol/barcelona/2021/03/20/6055bdba22601d67498b45dd.html\n",
      "Miku: \"Me gustaría jugar en Sudamérica, jugar la Libertadores\"\n",
      "https://as.com/futbol/2021/03/20/mas_futbol/1616232238_465570.html#?ref=rss&format=simple&link=link\n",
      "El Pucela remontó un 0-2 gracias a la expulsión de Luis Fabiano\n",
      "https://as.com/futbol/2021/03/20/primera/1616232876_142668.html#?ref=rss&format=simple&link=link\n",
      "\"Panenkismo o libertad\"\n",
      "https://www.marca.com/futbol/opinion/2021/03/20/6055c24122601d6d198b45ac.html\n",
      "Sorribes suma y sigue: pasa a semifinales en Monterrey\n",
      "https://as.com/tenis/2021/03/20/mas_tenis/1616232841_845005.html#?ref=rss&format=simple&link=link\n",
      "El truco que copian Zidane, Koeman y Simeone: \"En el Betis nos criticaban por esto\"\n",
      "https://www.marca.com/futbol/primera-division/2021/03/20/60550683268e3e4e5a8b4591.html\n",
      "Primer bombazo: el 95% de los brackets saltan por los aires\n",
      "https://as.com/baloncesto/2021/03/20/nba/1616233177_007634.html#?ref=rss&format=simple&link=link\n",
      "Animal Crossing New Horizons cumple 1 año: el fenómeno del confinamiento\n",
      "https://www.marca.com/videojuegos/nintendo/2021/03/20/605495a546163f33928b45f9.html\n",
      "Álvaro Benito descubre la clave que puede decidir el Madrid-Liverpool: \"No le viene mal...\"\n",
      "https://as.com/futbol/2021/03/20/videos/1616234143_570422.html#?ref=rss&format=simple&link=link\n",
      "Pablo Iglesias: \"Es más que probable que cuando se investigue a Ayuso, acabe en prisión\"\n",
      "https://www.marca.com/tiramillas/actualidad/2021/03/20/6055c82146163fcb818b45ab.html\n",
      "El amor a distancia de un futbolista argentino en España: 10 llamadas al día, cena en pareja...\n",
      "https://videos.marca.com/v/0_e25uu0sc-el-amor-a-distancia-de-un-futbolista-argentino-en-espana-10-llamadas-al-dia-cena-en-pareja?uetv_pl=virales&count=0\n",
      "Zverev y Tsitsipas se jugarán el título en Acapulco\n",
      "https://as.com/tenis/2021/03/20/mas_tenis/1616235078_097810.html#?ref=rss&format=simple&link=link\n",
      "Valladolid - Sevilla: Cuotaza para el Sevilla ante el Pucela\n",
      "https://as.com/futbol/2021/03/20/primera/1616235176_791402.html#?ref=rss&format=simple&link=link\n",
      "Horario de supermercados en el Puente del Día del Padre: Mercadona, Carrefour, Alcampo, Lidl...\n",
      "https://as.com/diarioas/2021/03/20/actualidad/1616232388_533640.html#?ref=rss&format=simple&link=link\n",
      "“Lorenzo se aburre”\n",
      "https://as.com/motor/2021/03/20/motociclismo/1616234710_360480.html#?ref=rss&format=simple&link=link\n",
      "Guendouzi volverá al Arsenal\n",
      "https://as.com/futbol/2021/03/20/internacional/1616232493_660005.html#?ref=rss&format=simple&link=link\n",
      "La imagen del año en golf: da un golpe en calzoncillos desde el barro... ¡y no avanza ni un metro!\n",
      "https://videos.marca.com/v/0_hrdgx83j-la-imagen-del-ano-en-golf-da-un-golpe-en-calzoncillos-desde-el-barro-y-no-avanza-ni-un-metro?uetv_pl=otros-deportes&count=0\n",
      "La decisión de Italia con las personas que rechacen la vacuna de AstraZeneca\n",
      "https://as.com/diarioas/2021/03/20/actualidad/1616235810_735857.html#?ref=rss&format=simple&link=link\n",
      "Yan Couto, tras su gol ante Las Palmas: “Este día se quedará guardado el resto de mi vida”\n",
      "https://as.com/futbol/2021/03/20/segunda/1616234927_103956.html#?ref=rss&format=simple&link=link\n",
      "Fuenlabrada – Leganés, siete retornos azulones a casa\n",
      "https://as.com/futbol/2021/03/20/segunda/1616234582_873099.html#?ref=rss&format=simple&link=link\n",
      "Everton - Manchester City: Guardiola quiere recuperar la corona de la FA Cup\n",
      "https://as.com/futbol/2021/03/20/internacional/1616236531_214122.html#?ref=rss&format=simple&link=link\n",
      "Sergi Roberto asoma la cabeza\n",
      "https://as.com/futbol/2021/03/20/primera/1616236299_338745.html#?ref=rss&format=simple&link=link\n",
      "El coronavirus altera la Asobal de nuevo: dos duelos aplazados\n",
      "https://as.com/masdeporte/2021/03/20/balonmano/1616236519_668565.html#?ref=rss&format=simple&link=link\n",
      "El Slavia denuncia un ataque a un jugador suyo: \"Fue premeditado\"\n",
      "https://as.com/futbol/2021/03/20/internacional/1616236513_134933.html#?ref=rss&format=simple&link=link\n",
      "El hijo de Trump comparte este meme de la caída de Biden en el avión y suma millones de visitas\n",
      "https://as.com/videos/2021/03/20/actualidad/1616236497_069771.html#?ref=rss&format=simple&link=link\n",
      "Rosberg cree que Hamilton puede perder por primera vez en muchos años\n",
      "https://www.marca.com/motor/formula1/2021/03/20/6055cee9268e3e0c2d8b45b5.html\n",
      "Ya es oficial: no habrá publico extranjero en los Juegos de Tokio\n",
      "https://www.marca.com/juegos-olimpicos/2021/03/20/6055c59ce2704eee608b4641.html\n",
      "Ríos de lava en Islandia tras la erupción de un volcán\n",
      "https://as.com/diarioas/2021/03/20/actualidad/1616237280_317008.html#?ref=rss&format=simple&link=link\n",
      "Van Basten: \"Pasé mucho tiempo en el sofá, sin poder ni andar, sin ganas de que la gente me viera en ese estado\"\n",
      "https://www.marca.com/futbol/futbol-internacional/2021/03/20/6055d3dc22601db5488b4667.html\n",
      "La AEA reconoce que en Torun no se respetaron los protocolos\n",
      "https://as.com/masdeporte/2021/03/20/atletismo/1616237380_971373.html#?ref=rss&format=simple&link=link\n",
      "El Barça, atento a la nueva sensación uruguaya de 16 años\n",
      "https://as.com/futbol/2021/03/20/internacional/1616232896_865722.html#?ref=rss&format=simple&link=link\n",
      "Así será el otoño que nos espera según Bill Gates\n",
      "https://www.marca.com/tiramillas/actualidad/2021/03/20/60559491ca4741d7728b45a4.html\n"
     ]
    }
   ],
   "source": [
    "for article in rss:\n",
    "    print(article['title'])\n",
    "    print(article['link'])"
   ]
  },
  {
   "cell_type": "code",
   "execution_count": null,
   "id": "governing-accessory",
   "metadata": {},
   "outputs": [],
   "source": []
  }
 ],
 "metadata": {
  "kernelspec": {
   "display_name": "Python 3",
   "language": "python",
   "name": "python3"
  },
  "language_info": {
   "codemirror_mode": {
    "name": "ipython",
    "version": 3
   },
   "file_extension": ".py",
   "mimetype": "text/x-python",
   "name": "python",
   "nbconvert_exporter": "python",
   "pygments_lexer": "ipython3",
   "version": "3.8.5"
  }
 },
 "nbformat": 4,
 "nbformat_minor": 5
}
