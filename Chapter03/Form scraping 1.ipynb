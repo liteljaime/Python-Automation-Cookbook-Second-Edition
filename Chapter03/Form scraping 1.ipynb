{
 "cells": [
  {
   "cell_type": "code",
   "execution_count": 12,
   "id": "alpha-victory",
   "metadata": {},
   "outputs": [],
   "source": [
    "import requests\n",
    "from bs4 import BeautifulSoup\n",
    "import re"
   ]
  },
  {
   "cell_type": "code",
   "execution_count": 13,
   "id": "becoming-increase",
   "metadata": {},
   "outputs": [
    {
     "data": {
      "text/plain": [
       "{'comments', 'custemail', 'custname', 'custtel', 'delivery', 'size', 'topping'}"
      ]
     },
     "execution_count": 13,
     "metadata": {},
     "output_type": "execute_result"
    }
   ],
   "source": [
    "response = requests.get('https://httpbin.org/forms/post')\n",
    "page = BeautifulSoup(response.text)\n",
    "form = page.find('form')\n",
    "{field.get('name') for field in form.find_all(re.compile('(input|textarea)'))}"
   ]
  },
  {
   "cell_type": "code",
   "execution_count": 14,
   "id": "harmful-broad",
   "metadata": {},
   "outputs": [],
   "source": [
    "data = {'custname': \"Sean O'Connell\", 'custtel': '123-456-789', 'custemail': 'sean@oconnell.ie', 'size': 'small', 'topping': ['bacon', 'onion'], 'delivery': '20:30', 'comments': ''}"
   ]
  },
  {
   "cell_type": "code",
   "execution_count": 15,
   "id": "colored-helmet",
   "metadata": {},
   "outputs": [
    {
     "data": {
      "text/plain": [
       "{'custname': \"Sean O'Connell\",\n",
       " 'custtel': '123-456-789',\n",
       " 'custemail': 'sean@oconnell.ie',\n",
       " 'size': 'small',\n",
       " 'topping': ['bacon', 'onion'],\n",
       " 'delivery': '20:30',\n",
       " 'comments': ''}"
      ]
     },
     "execution_count": 15,
     "metadata": {},
     "output_type": "execute_result"
    }
   ],
   "source": [
    "data"
   ]
  },
  {
   "cell_type": "code",
   "execution_count": 20,
   "id": "numeric-worth",
   "metadata": {},
   "outputs": [
    {
     "data": {
      "text/plain": [
       "b'{\\n  \"args\": {}, \\n  \"data\": \"\", \\n  \"files\": {}, \\n  \"form\": {\\n    \"comments\": \"\", \\n    \"custemail\": \"sean@oconnell.ie\", \\n    \"custname\": \"Sean O\\'Connell\", \\n    \"custtel\": \"123-456-789\", \\n    \"delivery\": \"20:30\", \\n    \"size\": \"small\", \\n    \"topping\": [\\n      \"bacon\", \\n      \"onion\"\\n    ]\\n  }, \\n  \"headers\": {\\n    \"Accept\": \"*/*\", \\n    \"Accept-Encoding\": \"gzip, deflate\", \\n    \"Content-Length\": \"140\", \\n    \"Content-Type\": \"application/x-www-form-urlencoded\", \\n    \"Host\": \"httpbin.org\", \\n    \"User-Agent\": \"python-requests/2.22.0\", \\n    \"X-Amzn-Trace-Id\": \"Root=1-6068528a-6eb3022f29a4333d4fa3e944\"\\n  }, \\n  \"json\": null, \\n  \"origin\": \"5.88.69.88\", \\n  \"url\": \"https://httpbin.org/post\"\\n}\\n'"
      ]
     },
     "execution_count": 20,
     "metadata": {},
     "output_type": "execute_result"
    }
   ],
   "source": [
    "response = requests.post('https://httpbin.org/post', data)\n",
    "response.content"
   ]
  },
  {
   "cell_type": "code",
   "execution_count": null,
   "id": "capable-confidentiality",
   "metadata": {},
   "outputs": [],
   "source": []
  }
 ],
 "metadata": {
  "kernelspec": {
   "display_name": "Python 3",
   "language": "python",
   "name": "python3"
  },
  "language_info": {
   "codemirror_mode": {
    "name": "ipython",
    "version": 3
   },
   "file_extension": ".py",
   "mimetype": "text/x-python",
   "name": "python",
   "nbconvert_exporter": "python",
   "pygments_lexer": "ipython3",
   "version": "3.8.5"
  }
 },
 "nbformat": 4,
 "nbformat_minor": 5
}
