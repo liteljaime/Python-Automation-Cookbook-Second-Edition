{
 "cells": [
  {
   "cell_type": "code",
   "execution_count": 11,
   "id": "alpha-victory",
   "metadata": {},
   "outputs": [],
   "source": [
    "import requests\n",
    "from bs4 import BeautifulSoup\n",
    "import re"
   ]
  },
  {
   "cell_type": "code",
   "execution_count": 12,
   "id": "becoming-increase",
   "metadata": {},
   "outputs": [
    {
     "data": {
      "text/plain": [
       "{'Login →', 'csrf', 'pass', 'user'}"
      ]
     },
     "execution_count": 12,
     "metadata": {},
     "output_type": "execute_result"
    }
   ],
   "source": [
    "response = requests.get('https://scrapethissite.com/pages/advanced/?gotcha=csrf')\n",
    "page = BeautifulSoup(response.text)\n",
    "form = page.find('form')\n",
    "{field.get('name') for field in form.find_all(re.compile('input'))}"
   ]
  },
  {
   "cell_type": "code",
   "execution_count": 18,
   "id": "harmful-broad",
   "metadata": {},
   "outputs": [],
   "source": [
    "csrf = form.find(attrs={'name':'csrf'}).get('value')"
   ]
  },
  {
   "cell_type": "code",
   "execution_count": 19,
   "id": "colored-helmet",
   "metadata": {},
   "outputs": [],
   "source": [
    "data = {'user': \"Jay\", 'pass': \"El paassssso\", 'csrf': csrf }"
   ]
  },
  {
   "cell_type": "code",
   "execution_count": 15,
   "id": "numeric-worth",
   "metadata": {},
   "outputs": [
    {
     "data": {
      "text/plain": [
       "b'{\\n  \"args\": {}, \\n  \"data\": \"\", \\n  \"files\": {}, \\n  \"form\": {\\n    \"csrf\": \"552553748\", \\n    \"pass\": \"El paassssso\", \\n    \"user\": \"Jay\"\\n  }, \\n  \"headers\": {\\n    \"Accept\": \"*/*\", \\n    \"Accept-Encoding\": \"gzip, deflate\", \\n    \"Content-Length\": \"41\", \\n    \"Content-Type\": \"application/x-www-form-urlencoded\", \\n    \"Host\": \"httpbin.org\", \\n    \"User-Agent\": \"python-requests/2.22.0\", \\n    \"X-Amzn-Trace-Id\": \"Root=1-606854e0-10ee27d147b65f251fa60b4f\"\\n  }, \\n  \"json\": null, \\n  \"origin\": \"5.88.69.88\", \\n  \"url\": \"https://httpbin.org/post\"\\n}\\n'"
      ]
     },
     "execution_count": 15,
     "metadata": {},
     "output_type": "execute_result"
    }
   ],
   "source": [
    "response = requests.post('https://httpbin.org/post', data)\n",
    "response.content"
   ]
  },
  {
   "cell_type": "code",
   "execution_count": 16,
   "id": "capable-confidentiality",
   "metadata": {},
   "outputs": [
    {
     "data": {
      "text/plain": [
       "{'args': {},\n",
       " 'data': '',\n",
       " 'files': {},\n",
       " 'form': {'csrf': '552553748', 'pass': 'El paassssso', 'user': 'Jay'},\n",
       " 'headers': {'Accept': '*/*',\n",
       "  'Accept-Encoding': 'gzip, deflate',\n",
       "  'Content-Length': '41',\n",
       "  'Content-Type': 'application/x-www-form-urlencoded',\n",
       "  'Host': 'httpbin.org',\n",
       "  'User-Agent': 'python-requests/2.22.0',\n",
       "  'X-Amzn-Trace-Id': 'Root=1-606854e0-10ee27d147b65f251fa60b4f'},\n",
       " 'json': None,\n",
       " 'origin': '5.88.69.88',\n",
       " 'url': 'https://httpbin.org/post'}"
      ]
     },
     "execution_count": 16,
     "metadata": {},
     "output_type": "execute_result"
    }
   ],
   "source": [
    "response.json()"
   ]
  },
  {
   "cell_type": "code",
   "execution_count": null,
   "id": "graduate-moscow",
   "metadata": {},
   "outputs": [],
   "source": []
  }
 ],
 "metadata": {
  "kernelspec": {
   "display_name": "Python 3",
   "language": "python",
   "name": "python3"
  },
  "language_info": {
   "codemirror_mode": {
    "name": "ipython",
    "version": 3
   },
   "file_extension": ".py",
   "mimetype": "text/x-python",
   "name": "python",
   "nbconvert_exporter": "python",
   "pygments_lexer": "ipython3",
   "version": "3.8.5"
  }
 },
 "nbformat": 4,
 "nbformat_minor": 5
}
