{
 "cells": [
  {
   "cell_type": "code",
   "execution_count": 1,
   "id": "adolescent-password",
   "metadata": {},
   "outputs": [],
   "source": [
    "import requests\n",
    "from bs4 import BeautifulSoup\n",
    "import re"
   ]
  },
  {
   "cell_type": "code",
   "execution_count": 4,
   "id": "charming-chaos",
   "metadata": {},
   "outputs": [
    {
     "data": {
      "text/plain": [
       "<Response [200]>"
      ]
     },
     "execution_count": 4,
     "metadata": {},
     "output_type": "execute_result"
    }
   ],
   "source": [
    "URL = 'http://www.columbia.edu/~fdc/sample.html'\n",
    "response = requests.get(URL)\n",
    "response"
   ]
  },
  {
   "cell_type": "code",
   "execution_count": 5,
   "id": "particular-preservation",
   "metadata": {},
   "outputs": [
    {
     "data": {
      "text/plain": [
       "'Sample Web Page'"
      ]
     },
     "execution_count": 5,
     "metadata": {},
     "output_type": "execute_result"
    }
   ],
   "source": [
    "page = BeautifulSoup(response.text, 'html.parser')\n",
    "page.title.string"
   ]
  },
  {
   "cell_type": "code",
   "execution_count": 6,
   "id": "finnish-occasions",
   "metadata": {},
   "outputs": [
    {
     "data": {
      "text/plain": [
       "[<h3 id=\"contents\">CONTENTS</h3>,\n",
       " <h3 id=\"basics\">1. Creating a Web Page</h3>,\n",
       " <h3 id=\"syntax\">2. HTML Syntax</h3>,\n",
       " <h3 id=\"chars\">3. Special Characters</h3>,\n",
       " <h3 id=\"convert\">4. Converting Plain Text to HTML</h3>,\n",
       " <h3 id=\"effects\">5. Effects</h3>,\n",
       " <h3 id=\"lists\">6. Lists</h3>,\n",
       " <h3 id=\"links\">7. Links</h3>,\n",
       " <h3 id=\"tables\">8. Tables</h3>,\n",
       " <h3 id=\"viewing\">9. Viewing Your Web Page</h3>,\n",
       " <h3 id=\"install\">10. Installing Your Web Page on the Internet</h3>,\n",
       " <h3 id=\"more\">11. Where to go from here</h3>]"
      ]
     },
     "execution_count": 6,
     "metadata": {},
     "output_type": "execute_result"
    }
   ],
   "source": [
    "page.find_all('h3')"
   ]
  },
  {
   "cell_type": "code",
   "execution_count": 7,
   "id": "typical-convergence",
   "metadata": {},
   "outputs": [
    {
     "data": {
      "text/plain": [
       "'3. Special Characters\\n\\nHTML special \"character entities\" start with ampersand (&&) and\\nend with semicolon (;;), like \"&euro;&euro;\" = \"€\".  The\\never-popular \"no-break space\" is &nbsp;&nbsp;.  There are special\\nentity names for accented Latin letters and other West European special\\ncharacters such as:\\n\\n\\n\\n\\n\\n&auml;&auml;\\na-umlaut\\n\\xa0ä\\xa0\\n\\n\\n&Auml;&Auml;\\nA-umlaut \\n\\xa0Ä\\xa0\\n\\n\\n&aacute;&aacute;\\na-acute \\n\\xa0á\\xa0\\n\\n\\n&agrave;&agrave;\\na-grave \\n\\xa0à\\xa0\\n\\n\\n&ntilde;&ntilde;\\nn-tilde \\n\\xa0ñ\\xa0\\n\\n\\n&szlig;&szlig;\\nGerman double-s\\n\\xa0ß\\xa0\\n\\n\\n&thorn;&thorn;\\nIcelandic thorn \\n\\xa0þ\\xa0\\n\\xa0þ\\xa0\\n\\n\\n\\n\\n(The table above is shown in the basic, default style of HTML.  Of course\\nthere are many ways to customize the appearance of tables, but that\\'s beyond\\nthe scope of this tutorial.)\\n\\nExamples:\\n\\n\\nFor SpanishSpanish you would need:\\n&Aacute;&Aacute; (Á),\\n&aacute;&aacute; (á),\\n&Eacute;&Eacute; (É),\\n&eacute;&eacute; (é),\\n&Iacute;&Iacute; (Í),\\n&iacute;&iacute; (í),\\n&Oacute;&Oacute; (Ó),\\n&oacute;&oacute; (ó),\\n&Uacute;&Uacute; (ú),\\n&uacute;&uacute; (ú),\\n&Uuml;&Uuml; (Ü),\\n&uuml;&uuml; (ü),\\n&Ntilde;&Ntilde; (Ñ),\\n&ntilde;&ntilde; (ñ);\\n&iquest;&iquest; (¿);\\n&iexcl;&iexcl; (¡).\\nExample: Añorarán = A&ntilde;orar&aacute;nA&ntilde;orar&aacute;n.\\n\\n\\nFor GermanGerman you would need:\\n&Auml;&Auml; (Ä),\\n&auml;&auml; (ä),\\n&Ouml;&Ouml; (Ö),\\n&ouml;&ouml; (ö),\\n&Uuml;&Uuml; (ü),\\n&uuml;&uuml; (ü),\\n&szlig;&szlig; (ß).\\nExample: Grüße aus Köln = Gr&uuml;&szlig;e aus K&ouml;lnGr&uuml;&szlig;e aus K&ouml;ln.\\n\\n\\n\\nCLICK HERECLICK HERE\\nfor a complete list.  When the page encoding is\\nUTF-8UTF-8, which is\\nrecommended, you can also enter any character at all, Roman,\\nCyrillic, Arabic, Hebrew, Greek. Japanese,\\netc, either as numeric entities or (if you have a way to type them) directly\\nfrom the keyboard.\\n\\n\\n\\nAnd remember: if you want to\\ninclude <<, &&,\\nor >> literally in text to be displayed, you have\\nto write &lt;&lt;,\\n&amp;&amp;, &gt;&gt;, respectively.\\n\\n\\n\\n\\n'"
      ]
     },
     "execution_count": 7,
     "metadata": {},
     "output_type": "execute_result"
    }
   ],
   "source": [
    "link_section = page.find('h3', attrs={'id': 'chars'})\n",
    "section = []\n",
    "for element in link_section.next_elements:\n",
    "    if element.name == 'h3':\n",
    "        break\n",
    "    section.append(element.string or '')\n",
    "\n",
    "result = ''.join(section)\n",
    "result"
   ]
  },
  {
   "cell_type": "code",
   "execution_count": 8,
   "id": "outside-british",
   "metadata": {},
   "outputs": [
    {
     "data": {
      "text/plain": [
       "[<h2>Sample Web Page</h2>,\n",
       " <h3 id=\"contents\">CONTENTS</h3>,\n",
       " <h3 id=\"basics\">1. Creating a Web Page</h3>,\n",
       " <h3 id=\"syntax\">2. HTML Syntax</h3>,\n",
       " <h3 id=\"chars\">3. Special Characters</h3>,\n",
       " <h3 id=\"convert\">4. Converting Plain Text to HTML</h3>,\n",
       " <h3 id=\"effects\">5. Effects</h3>,\n",
       " <h3 id=\"lists\">6. Lists</h3>,\n",
       " <h3 id=\"links\">7. Links</h3>,\n",
       " <h3 id=\"tables\">8. Tables</h3>,\n",
       " <h3 id=\"viewing\">9. Viewing Your Web Page</h3>,\n",
       " <h3 id=\"install\">10. Installing Your Web Page on the Internet</h3>,\n",
       " <h3 id=\"more\">11. Where to go from here</h3>]"
      ]
     },
     "execution_count": 8,
     "metadata": {},
     "output_type": "execute_result"
    }
   ],
   "source": [
    "page.find_all(re.compile('^h(2|3)'))"
   ]
  },
  {
   "cell_type": "code",
   "execution_count": null,
   "id": "accomplished-bulletin",
   "metadata": {},
   "outputs": [],
   "source": []
  }
 ],
 "metadata": {
  "kernelspec": {
   "display_name": "Python 3",
   "language": "python",
   "name": "python3"
  },
  "language_info": {
   "codemirror_mode": {
    "name": "ipython",
    "version": 3
   },
   "file_extension": ".py",
   "mimetype": "text/x-python",
   "name": "python",
   "nbconvert_exporter": "python",
   "pygments_lexer": "ipython3",
   "version": "3.8.5"
  }
 },
 "nbformat": 4,
 "nbformat_minor": 5
}
