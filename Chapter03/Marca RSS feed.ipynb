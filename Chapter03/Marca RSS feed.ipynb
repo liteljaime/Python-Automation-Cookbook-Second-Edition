{
 "cells": [
  {
   "cell_type": "code",
   "execution_count": 1,
   "id": "polish-brunei",
   "metadata": {},
   "outputs": [],
   "source": [
    "import feedparser\n",
    "import datetime\n",
    "import delorean\n",
    "import requests"
   ]
  },
  {
   "cell_type": "code",
   "execution_count": 2,
   "id": "tight-hands",
   "metadata": {},
   "outputs": [
    {
     "data": {
      "text/plain": [
       "'Fri, 19 Mar 2021 17:42:35 +0000'"
      ]
     },
     "execution_count": 2,
     "metadata": {},
     "output_type": "execute_result"
    }
   ],
   "source": [
    "rss = feedparser.parse('http://rss.nytimes.com/services/xml/rss/nyt/HomePage.xml')\n",
    "rss.channel.updated"
   ]
  },
  {
   "cell_type": "code",
   "execution_count": 4,
   "id": "monthly-starter",
   "metadata": {},
   "outputs": [],
   "source": [
    "time_limit = delorean.parse(rss.channel.updated) - datetime.timedelta(hours=6)\n",
    "entries = [entry for entry in rss.entries if delorean.parse(entry.published) > time_limit]"
   ]
  },
  {
   "cell_type": "raw",
   "id": "featured-sleeping",
   "metadata": {},
   "source": []
  }
 ],
 "metadata": {
  "kernelspec": {
   "display_name": "Python 3",
   "language": "python",
   "name": "python3"
  },
  "language_info": {
   "codemirror_mode": {
    "name": "ipython",
    "version": 3
   },
   "file_extension": ".py",
   "mimetype": "text/x-python",
   "name": "python",
   "nbconvert_exporter": "python",
   "pygments_lexer": "ipython3",
   "version": "3.8.5"
  }
 },
 "nbformat": 4,
 "nbformat_minor": 5
}
